{
 "cells": [
  {
   "cell_type": "markdown",
   "metadata": {},
   "source": [
    "[Moving Camera, Moving People: A Deep Learning Approach to Depth Prediction](https://ai.googleblog.com/2019/05/moving-camera-moving-people-deep.html)\n",
    "\n",
    "專案的目標？ (要解決什麼問題） \n",
    "辨識移動中的人 \n",
    "\n",
    "使用的技術是？ (只需知道名稱即可，例如：使用 CNN 卷積神經網路做影像分類)  \n",
    "deep learning-based approach\n",
    "\n",
    "資料來源？ \n",
    "Google AI Blog"
   ]
  }
 ],
 "metadata": {
  "kernelspec": {
   "display_name": "Python 3",
   "language": "python",
   "name": "python3"
  },
  "language_info": {
   "codemirror_mode": {
    "name": "ipython",
    "version": 3
   },
   "file_extension": ".py",
   "mimetype": "text/x-python",
   "name": "python",
   "nbconvert_exporter": "python",
   "pygments_lexer": "ipython3",
   "version": "3.6.5"
  }
 },
 "nbformat": 4,
 "nbformat_minor": 2
}
