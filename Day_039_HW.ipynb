{
 "cells": [
  {
   "cell_type": "markdown",
   "metadata": {},
   "source": [
    "# [作業重點]\n",
    "## 清楚了解 L1, L2 的意義與差異為何，並了解 LASSO 與 Ridge 之間的差異與使用情境\n",
    "\n",
    "### 作業\n",
    "\n",
    "請閱讀相關文獻，並回答下列問題\n",
    "\n",
    "脊回歸 (Ridge Regression) Linear, Ridge, Lasso Regression 本質區別\n",
    "\n",
    "\n",
    "### LASSO 回歸可以被用來作為 Feature selection 的工具，請了解 LASSO 模型為什麼可用來作 Feature selection \n",
    "\n",
    "A：由於 lasso 更容易使得權重變為 0，所以可以用其做 feature selection。因為權重為 0 的 feature 對迴歸問題沒有貢獻，直接去掉權重為 0 的 feature，模型的輸出值不變。\n",
    "\n",
    "\n",
    "### 當自變數 (X) 存在高度共線性時，Ridge Regression 可以處理這樣的問題嗎?   \n",
    "\n",
    "A：可以，因為存在多重線性關係時，輸出容易在輸入有些微變動時有大幅度的變化，需仰賴 Ridge 的懲罰值扣回來。\n"
   ]
  }
 ],
 "metadata": {
  "kernelspec": {
   "display_name": "Python 3",
   "language": "python",
   "name": "python3"
  },
  "language_info": {
   "codemirror_mode": {
    "name": "ipython",
    "version": 3
   },
   "file_extension": ".py",
   "mimetype": "text/x-python",
   "name": "python",
   "nbconvert_exporter": "python",
   "pygments_lexer": "ipython3",
   "version": "3.6.5"
  }
 },
 "nbformat": 4,
 "nbformat_minor": 2
}
